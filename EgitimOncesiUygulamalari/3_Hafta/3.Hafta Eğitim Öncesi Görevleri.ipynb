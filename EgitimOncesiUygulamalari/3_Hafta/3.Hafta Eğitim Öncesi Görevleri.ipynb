{
  "cells": [
    {
      "cell_type": "markdown",
      "metadata": {
        "id": "tsD4YVAe_Te2"
      },
      "source": [
        "# Problem 1\n",
        "Bir sayının 7'ye bölünebilir olup olmadığını kontrol etmek \n",
        "için bir program yazın.\n",
        "\n",
        "İpucu: Mod operatörünü (%) kullanabilirsiniz."
      ]
    },
    {
      "cell_type": "code",
      "execution_count": 4,
      "metadata": {
        "id": "NGjvNwKx_Te7"
      },
      "outputs": [
        {
          "name": "stdout",
          "output_type": "stream",
          "text": [
            "7,7 rakamına bölünebilir.\n"
          ]
        }
      ],
      "source": [
        "sayi=int(input())\n",
        "if sayi%7==0 :\n",
        "    print(sayi, \"7 rakamına bölünebilir.\", sep=\",\")\n",
        "else:\n",
        "    print(sayi, \"7 rakamına bölünemez.\", sep=\",\")"
      ]
    },
    {
      "cell_type": "markdown",
      "metadata": {
        "id": "Kg3qiBAI_Te8"
      },
      "source": [
        "# Problem 2\n",
        "Kullanıcıdan vize ve final notu isteyin. Girilen vize notunun %40’ı ve \n",
        "girilen finalnotunun ise %60’ı alınarak yıl sonu not ortalaması hesaplanacaktır. \n",
        "\n",
        "Bu not ortalaması eğer 85 ve üzeri ise AA, \n",
        "\n",
        "75 ve 85 arasında ise BA, \n",
        "\n",
        "70 ve 75 arasında ise BB, \n",
        "\n",
        "65 ve 70 arasında ise CB,\n",
        "\n",
        "60 ve 65 arasında ise CC,\n",
        "\n",
        "55 ve 60 arasında ise DC,\n",
        "\n",
        "50 ve 55 arasında ise DD olarak hesaplanacaktır. \n",
        "\n",
        "Bu öğrencinin yıl sonu toplam notu 50’nin altında ise FF ile dersten kalacaktır. \n",
        "\n",
        "Ayrıca öğrencinin final notu 50’nin altında ise direkt FF ile kalacaktır."
      ]
    },
    {
      "cell_type": "code",
      "execution_count": 20,
      "metadata": {
        "id": "MXTtCxI1_Te8"
      },
      "outputs": [
        {
          "name": "stdout",
          "output_type": "stream",
          "text": [
            "Harf notunuz: FF. Dersten kaldınız.\n"
          ]
        }
      ],
      "source": [
        "vize=int(input())\n",
        "final=int(input())\n",
        "ort= (vize*40/100)+(final*60/100)\n",
        "\n",
        "if final<50:\n",
        "    print(\"Harf notunuz: FF. Dersten kaldınız.\")\n",
        "elif ort>=85:\n",
        "    print(\"Harf notunuz: AA\")\n",
        "elif 75<=ort<85:\n",
        "    print(\"Harf notonuz: BA\")\n",
        "elif 70<=ort<75:\n",
        "    print(\"Harf notunuz: BB\")\n",
        "elif 65<=ort<70:\n",
        "    print(\"Harf notunuz: CB\")\n",
        "elif 60<=ort<65:\n",
        "    print(\"Harf notunuz: CC\")\n",
        "elif 55<=ort<60:\n",
        "    print(\"Harf notunuz: DC\")\n",
        "elif 50<=ort<55:\n",
        "    print(\"Harf notunuz: DD\")\n",
        "else:\n",
        "    print(\"Harf notunuz: FF. Dersten kaldınız.\")"
      ]
    },
    {
      "cell_type": "markdown",
      "metadata": {
        "id": "tAoRYCTC_Te8"
      },
      "source": [
        "# Problem 3\n",
        "İki YetGenli Zirve'de karşılaşıyorlar. Birbirlerini tanımak için sorular soruyorlar. Birbirlerine yaşlarını soruyorlar. Akıllarına bir Python programı yazıp, yaşlarını ve isimlerini giriyorlar. Büyük olanın yaşını ekrana yazdıran programı yazıyorlar. Sende bu iki YetGenli'ye destek olmak ister misin?\n",
        "\n",
        "```\n",
        "Birinci YetGenlinin ismi: Ahmet\n",
        "Birinci YetGenlinin yaşı : 20\n",
        "İkinci YetGenlinin ismi: Mehmet\n",
        "İkinci YetGenlinin yaşı : 25\n",
        "Mehmet'in yaşı daha büyük ve yaşı 25'tir.\n",
        "```"
      ]
    },
    {
      "cell_type": "code",
      "execution_count": 24,
      "metadata": {
        "id": "bPjE8W0i_Te8"
      },
      "outputs": [
        {
          "name": "stdout",
          "output_type": "stream",
          "text": [
            "Mehmet daha büyüktür ve yaşı 25 'tir\n"
          ]
        }
      ],
      "source": [
        "isim1=input(\"İsminizi girin: \")\n",
        "yas1=int(input(\"Yaşınızı girin: \"))\n",
        "isim2=input(\"İsminizi girin: \")\n",
        "yas2=int(input(\"Yaşınızı girin: \"))\n",
        "\n",
        "if yas1>yas2:\n",
        "    print(isim1,\"daha büyüktür ve yaşı\", yas1,\"'tir\")\n",
        "else:\n",
        "    print(isim2,\"daha büyüktür ve yaşı\", yas2,\"'tir\")\n",
        "\n"
      ]
    },
    {
      "cell_type": "markdown",
      "metadata": {
        "id": "zBVv8Tyg_Te9"
      },
      "source": [
        "# Problem 4\n",
        "Pandemi döneminde AVM'lerde ateş ölçümü yapılıyor. AVM'ye giren kişinin ateş ölçümü 37.5 derecenin altında ise girişe izin veriliyor. 37.5 derecenin üstünde ise girişe izin verilmiyor. AVM'ye girişe izin verilip verilmediğini ekrana yazdıran bir program yazın.\n",
        "\n",
        "Program sonunda şöyle bir çıktı elde etmelisiniz:\n",
        "\n",
        "```\n",
        "Ateşiniz 37.5 derece. AVM'ye girebilirsin! Maske takmayı unutma!\n",
        "Ateşiniz 37.6 derece. AVM'ye giremezsin! Hemen evine dön!\n",
        "```"
      ]
    },
    {
      "cell_type": "code",
      "execution_count": 27,
      "metadata": {
        "id": "TSAXs8et_Te9"
      },
      "outputs": [
        {
          "name": "stdout",
          "output_type": "stream",
          "text": [
            "Ateşiniz 37.5 derece. AVM'ye giremezsin! Hemen evine dön!\n"
          ]
        }
      ],
      "source": [
        "sıcaklık=float(input())\n",
        "\n",
        "if sıcaklık<37.5:\n",
        "    print(\"Ateşiniz\", sıcaklık,\"derece. AVM'ye girebilirsin! Maske takmayı unutma!\")\n",
        "else:\n",
        "    print(\"Ateşiniz\", sıcaklık,\"derece. AVM'ye giremezsin! Hemen evine dön!\")\n"
      ]
    },
    {
      "cell_type": "markdown",
      "metadata": {
        "id": "6AEkZrDt_Te9"
      },
      "source": [
        "# Problem 5\n",
        "YetGen bir spor kulübüyle sponsorluk anlaşması yapıyor. Kulüp, sponsorluk anlaşmasına göre her YetGen liderinin beden kitle indeksini hesaplamak istiyor. Spor kulübü, beden kitle indeksini hesaplamak için YetGen Jump Python liderlerinden Berkcan ve Ahmet'i arıyor. Berkcan ve Ahmet, kulübe yardımcı olmak için bir Python programı yazıyorlar. Sende bu iki YetGen liderine destek olmak ister misin?\n",
        "\n",
        "Kullanıcıdan alınan boy ve kilo değerlerine göre beden kitle indeksini hesaplayın ve şu kurallara göre ekrana şu yazıları yazdırın.\n",
        "\n",
        "\n",
        "Beden Kitle İndeksi, kişinin ağırlığının (kg olarak) boyunun karesine (m olarak) bölünmesiyle hesaplanır.\n",
        "\n",
        "\n",
        "```\n",
        " BKİ 18.5'un altındaysa -------> Zayıf\n",
        "\n",
        " BKİ 18.5 ile 25 arasındaysa ------> Normal\n",
        "\n",
        " BKİ 25 ile 30 arasındaysa --------> Fazla Kilolu\n",
        "\n",
        " BKİ 30'un üstündeyse -------------> Obez\n",
        "```\n",
        "\n"
      ]
    },
    {
      "cell_type": "code",
      "execution_count": 3,
      "metadata": {
        "id": "t-XPI_u0_Te-"
      },
      "outputs": [
        {
          "name": "stdout",
          "output_type": "stream",
          "text": [
            "Fazla Kilolu\n"
          ]
        }
      ],
      "source": [
        "boy=float(input(\"Boyunuzu giriniz(m): \"))\n",
        "kilo=float(input(\"Boynuzu giriniz(kg): \"))\n",
        "bki=(kilo/(boy**2))\n",
        "\n",
        "if bki<18.5:\n",
        "    print(\"Zayıf\")\n",
        "\n",
        "elif 18.5<bki<25:\n",
        "    print(\"Normal\")\n",
        "\n",
        "elif 25<bki<30:\n",
        "    print(\"Fazla Kilolu\")\n",
        "\n",
        "else:\n",
        "    print(\"Obez\")"
      ]
    },
    {
      "cell_type": "markdown",
      "metadata": {
        "id": "oFsvQyaO_Te-"
      },
      "source": [
        "# Problem 6\n",
        "Kullanıcıdan isim, yaş ve eğitim bilgilerini isteyip ehliyet alabilme  durumunu kontrol ediniz. \n",
        "\n",
        "Ehliyet alma koşulu en az 18 yaşında ve eğitim durumu lise ya da üniversite olmalıdır. "
      ]
    },
    {
      "cell_type": "code",
      "execution_count": 51,
      "metadata": {
        "id": "Tu2mcgco_Te-"
      },
      "outputs": [
        {
          "name": "stdout",
          "output_type": "stream",
          "text": [
            "Sayın sıde ehliyet almazsınız.\n"
          ]
        }
      ],
      "source": [
        "isim=input(\"İsminizi giriniz: \")\n",
        "yas=int(input(\"Yaşınızı giriniz. \"))\n",
        "egitim=input(\"Egitim durumunuzu giriniz: \")\n",
        "liste=[\"Üniversite\",\"Lise\"]\n",
        "\n",
        "if yas>18 and egitim in liste:\n",
        "    print(\"Sayın\", isim, \"ehliyet alabilirsiniz.\")\n",
        "\n",
        "else:\n",
        "    print(\"Sayın\", isim,\"ehliyet almazsınız.\")"
      ]
    },
    {
      "cell_type": "markdown",
      "metadata": {
        "id": "eUkxVSAE_Te_"
      },
      "source": [
        "# Problem 7\n",
        "Bir yılın artık yıl olup olmadığını kontrol etmek için bir program yazın. \n",
        "Artık yıl kuralı:\n",
        "\n",
        "a) Eğer yılın son iki basamağı (00) ile bitmiyor ve yalnızca 4'e tam bölünüyorsa artık yıldır. Ya da, \n",
        "\n",
        "b) Eğer yıl 400'e tam bölünüyorsa artık yıldır.\n",
        "\n",
        "**Örneğin**\n",
        "```\n",
        "2017 artık yıl değildir.\n",
        "1900 artık yıl değildir\n",
        "2012 artık yıldır.\n",
        "2000 artık yıldır.\n",
        "```"
      ]
    },
    {
      "cell_type": "code",
      "execution_count": 19,
      "metadata": {
        "id": "4uWh8qUL_Te_"
      },
      "outputs": [
        {
          "name": "stdout",
          "output_type": "stream",
          "text": [
            "2000 yılı artık yıldır.\n"
          ]
        }
      ],
      "source": [
        "yil=int(input(\"Yılı giriniz: \"))\n",
        "\n",
        "if yil%100!=0 and yil%4==0 :\n",
        "    print(yil, \"yılı artık yıldır.\")\n",
        "\n",
        "elif yil%400==0:\n",
        "    print(yil, \"yılı artık yıldır.\")\n",
        "else:\n",
        "    print(yil,\"yılı artık yil değildir.\")\n"
      ]
    }
  ],
  "metadata": {
    "colab": {
      "provenance": []
    },
    "kernelspec": {
      "display_name": "Python 3.10.5 64-bit",
      "language": "python",
      "name": "python3"
    },
    "language_info": {
      "name": "python",
      "version": "3.11.1"
    },
    "orig_nbformat": 4,
    "vscode": {
      "interpreter": {
        "hash": "5026d2d6e7aaaaba093def813beadff083d8733e4a511af01735cbabd156995d"
      }
    }
  },
  "nbformat": 4,
  "nbformat_minor": 0
}
